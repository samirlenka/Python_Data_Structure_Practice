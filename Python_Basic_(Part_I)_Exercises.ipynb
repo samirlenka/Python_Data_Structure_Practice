{
  "nbformat": 4,
  "nbformat_minor": 0,
  "metadata": {
    "colab": {
      "name": "Python Basic (Part -I)_Exercises.ipynb",
      "provenance": [],
      "collapsed_sections": [],
      "authorship_tag": "ABX9TyPCCCLTvlU1EYHlslW5TUEW",
      "include_colab_link": true
    },
    "kernelspec": {
      "name": "python3",
      "display_name": "Python 3"
    }
  },
  "cells": [
    {
      "cell_type": "markdown",
      "metadata": {
        "id": "view-in-github",
        "colab_type": "text"
      },
      "source": [
        "<a href=\"https://colab.research.google.com/github/samirlenka/Python_Data_Structure_Practice/blob/master/Python_Basic_(Part_I)_Exercises.ipynb\" target=\"_parent\"><img src=\"https://colab.research.google.com/assets/colab-badge.svg\" alt=\"Open In Colab\"/></a>"
      ]
    },
    {
      "cell_type": "markdown",
      "metadata": {
        "id": "Hau1JpaYxTHU"
      },
      "source": [
        ""
      ]
    },
    {
      "cell_type": "markdown",
      "metadata": {
        "id": "YS2XyNPRxUwY"
      },
      "source": [
        "1. Write a Python program to print the following string in a specific format -\n",
        "\n",
        "Output :\n",
        "\n",
        "Twinkle, twinkle, little star,\n",
        "\tHow I wonder what you are! \n",
        "\t\tUp above the world so high,   \t\t\n",
        "\t\tLike a diamond in the sky. \n",
        "Twinkle, twinkle, little star, \n",
        "\tHow I wonder what you are"
      ]
    },
    {
      "cell_type": "code",
      "metadata": {
        "id": "MN0WmMvDyLoR",
        "colab": {
          "base_uri": "https://localhost:8080/",
          "height": 119
        },
        "outputId": "e65cd993-404b-4a1f-eada-0d7fc2ee9bbe"
      },
      "source": [
        "print(\"Twinkle, twinkle, little star, \\n\\tHow I wonder what you are! \\n\\t\\tUp above the world so high, \\n\\t\\tLike a diamond in the sky.\\nTwinkle, twinkle, little star,\\n\\tHow I wonder what you are\")"
      ],
      "execution_count": null,
      "outputs": [
        {
          "output_type": "stream",
          "text": [
            "Twinkle, twinkle, little star, \n",
            "\tHow I wonder what you are! \n",
            "\t\tUp above the world so high, \n",
            "\t\tLike a diamond in the sky.\n",
            "Twinkle, twinkle, little star,\n",
            "\tHow I wonder what you are\n"
          ],
          "name": "stdout"
        }
      ]
    },
    {
      "cell_type": "markdown",
      "metadata": {
        "id": "AA5RvH_O10CK"
      },
      "source": [
        "2. Write a Python program to get the Python version you are using"
      ]
    },
    {
      "cell_type": "code",
      "metadata": {
        "id": "ZnPjtUdg113w",
        "colab": {
          "base_uri": "https://localhost:8080/",
          "height": 102
        },
        "outputId": "7b1a6db1-f0fd-49f8-d4d2-f3196dd1796e"
      },
      "source": [
        "import sys\n",
        "print('Python Version : ')\n",
        "print(sys.version)\n",
        "print('Version Info. : ')\n",
        "print(sys.version_info)"
      ],
      "execution_count": null,
      "outputs": [
        {
          "output_type": "stream",
          "text": [
            "Python Version : \n",
            "3.6.9 (default, Nov  7 2019, 10:44:02) \n",
            "[GCC 8.3.0]\n",
            "Version Info. : \n",
            "sys.version_info(major=3, minor=6, micro=9, releaselevel='final', serial=0)\n"
          ],
          "name": "stdout"
        }
      ]
    },
    {
      "cell_type": "markdown",
      "metadata": {
        "id": "dsSaaXRk2x_g"
      },
      "source": [
        "3.Write a Python program to display the current date and time.\n",
        "\n",
        "Sample Output :Current date and time : 2020-06-29 20:04:10"
      ]
    },
    {
      "cell_type": "code",
      "metadata": {
        "id": "crU7xj7Hqa95",
        "colab": {
          "base_uri": "https://localhost:8080/",
          "height": 51
        },
        "outputId": "ee378245-cadb-42e6-e2ae-95be46736d5b"
      },
      "source": [
        "import datetime\n",
        "current_date_time = datetime.datetime.now()\n",
        "print('Current date and time :')\n",
        "print(current_date_time.strftime(\"%Y-%m-%d %H:%M:%S\"))"
      ],
      "execution_count": null,
      "outputs": [
        {
          "output_type": "stream",
          "text": [
            "Current date and time :\n",
            "2020-06-29 20:04:10\n"
          ],
          "name": "stdout"
        }
      ]
    },
    {
      "cell_type": "markdown",
      "metadata": {
        "id": "1w1Bm8Nbrl6R"
      },
      "source": [
        "4.Write a Python program which accepts the radius of a circle from the user and compute the area.\n",
        "\n",
        "Sample Output : r = 1.1, Area = 3.8013271108436504"
      ]
    },
    {
      "cell_type": "code",
      "metadata": {
        "id": "M67AXuFGrzU1",
        "colab": {
          "base_uri": "https://localhost:8080/",
          "height": 51
        },
        "outputId": "d83fe9fc-1977-4305-9057-d1da242f1f63"
      },
      "source": [
        "from math import pi\n",
        "r = float(input(\"Enter the radius of the Circle : \"))\n",
        "print(\"The Area of the Circle with radius \" + str(r) + \" is : \" +str(pi*(r**2)))"
      ],
      "execution_count": null,
      "outputs": [
        {
          "output_type": "stream",
          "text": [
            "Enter the radius of the Circle : 23\n",
            "The Area of the Circle with radius 23.0 is : 1661.9025137490005\n"
          ],
          "name": "stdout"
        }
      ]
    },
    {
      "cell_type": "markdown",
      "metadata": {
        "id": "2gc2YKfJwNhf"
      },
      "source": [
        "5.Write a Python program which accepts the user's first and last name and print them in reverse order with a space between them."
      ]
    },
    {
      "cell_type": "code",
      "metadata": {
        "id": "4k4QK2lrwTq2",
        "colab": {
          "base_uri": "https://localhost:8080/",
          "height": 68
        },
        "outputId": "bcd10a43-5fb6-4eaf-95e0-4da7c7c92e39"
      },
      "source": [
        "p = str(input(\"Enter Your First Name :\"))\n",
        "q = str(input(\"Enter Your last Name :\"))\n",
        "print(q +' '+ p)\n"
      ],
      "execution_count": null,
      "outputs": [
        {
          "output_type": "stream",
          "text": [
            "Enter Your First Name :samir\n",
            "Enter Your last Name :enka\n",
            "enka samir\n"
          ],
          "name": "stdout"
        }
      ]
    },
    {
      "cell_type": "markdown",
      "metadata": {
        "id": "G_MIcdgG2DoC"
      },
      "source": [
        "6.Write a Python program which accepts a sequence of comma-separated numbers from user and generate a list and a tuple with those numbers.\n",
        "Sample data : 3, 5, 7, 23\n",
        "\n",
        "Output :\n",
        "List : ['3', ' 5', ' 7', ' 23']\n",
        "Tuple : ('3', ' 5', ' 7', ' 23')"
      ]
    },
    {
      "cell_type": "code",
      "metadata": {
        "id": "elKEeNfq1_2U",
        "colab": {
          "base_uri": "https://localhost:8080/",
          "height": 68
        },
        "outputId": "e80bdf75-65b9-4683-d4f8-28227029e74c"
      },
      "source": [
        "values = input(\"Enter some comma separated Numbers : \")\n",
        "list = values.split(\",\")\n",
        "del(tuple)\n",
        "tuple = tuple(list)\n",
        "print (\"List : \", list)\n",
        "print(\"Tuple : \",tuple)\n",
        "\n"
      ],
      "execution_count": null,
      "outputs": [
        {
          "output_type": "stream",
          "text": [
            "Enter some comma separated Numbers : 3, 5, 7, 23\n",
            "List :  ['3', ' 5', ' 7', ' 23']\n",
            "Tuple :  ('3', ' 5', ' 7', ' 23')\n"
          ],
          "name": "stdout"
        }
      ]
    },
    {
      "cell_type": "markdown",
      "metadata": {
        "id": "2HlthZ2A-3Pi"
      },
      "source": [
        "7.Write a Python program to accept a filename from the user and print the extension of that.\n",
        "\n",
        "Sample filename : abc.java\n",
        "\n",
        "Output : java"
      ]
    },
    {
      "cell_type": "code",
      "metadata": {
        "id": "i2q8Pmmz_CoQ",
        "colab": {
          "base_uri": "https://localhost:8080/",
          "height": 68
        },
        "outputId": "46ba9fe7-0f21-462d-bdd4-1dff10e70b45"
      },
      "source": [
        "f_name = input(\"Enter a file name with Extension : \")\n",
        "print(f_name)\n",
        "type(f_name)\n",
        "f_ext = f_name.split(\".\")\n",
        "print('The Extension of the file is : ' + repr(f_ext[-1]))"
      ],
      "execution_count": null,
      "outputs": [
        {
          "output_type": "stream",
          "text": [
            "Enter a file name with Extension : abc.java\n",
            "abc.java\n",
            "The Extension of the file is : 'java'\n"
          ],
          "name": "stdout"
        }
      ]
    },
    {
      "cell_type": "markdown",
      "metadata": {
        "id": "MZKdIu2nHlbq"
      },
      "source": [
        "8.Write a Python program to display the first and last colors from the following list.\n",
        "\n",
        "color_list = [\"Red\",\"Green\",\"White\" ,\"Black\"]"
      ]
    },
    {
      "cell_type": "code",
      "metadata": {
        "id": "ABZ-VkXoMYub",
        "colab": {
          "base_uri": "https://localhost:8080/",
          "height": 51
        },
        "outputId": "fc399d8d-1815-4257-c3fc-85660ae1adf1"
      },
      "source": [
        "color_list = [\"Red\", \"Green\", \"White\", \"Black\"]\n",
        "print(\"First and Last colors from the list are : \\n\" + \"First Color : \" + color_list[0] +\" (and) \"+ \"Last Color : \" + color_list[-1])"
      ],
      "execution_count": null,
      "outputs": [
        {
          "output_type": "stream",
          "text": [
            "First and Last colors from the list are : \n",
            "First Color : Red (and) Last Color : Black\n"
          ],
          "name": "stdout"
        }
      ]
    },
    {
      "cell_type": "markdown",
      "metadata": {
        "id": "dx-c4c3YOSrG"
      },
      "source": [
        "9.Write a Python program to display the examination schedule. (extract the date from exam_st_date). \n",
        "exam_st_date = (11, 12, 2014)\n",
        "\n",
        "Sample Output : The examination will start from : 11 / 12 / 2014"
      ]
    },
    {
      "cell_type": "code",
      "metadata": {
        "id": "F8-Mc5L7OXgg",
        "colab": {
          "base_uri": "https://localhost:8080/",
          "height": 51
        },
        "outputId": "0dc8ab05-3a5a-4c47-87d2-4ba4125a0e37"
      },
      "source": [
        "exam_st_date = (11,12,2020)\n",
        "print(exam_st_date)\n",
        "type (exam_st_date)\n",
        "\n",
        "print(\"The Examination will strat from : %i / %i / %i\" %exam_st_date)\n"
      ],
      "execution_count": null,
      "outputs": [
        {
          "output_type": "stream",
          "text": [
            "(11, 12, 2020)\n",
            "The Examination will strat from : 11 / 12 / 2020\n"
          ],
          "name": "stdout"
        }
      ]
    },
    {
      "cell_type": "markdown",
      "metadata": {
        "id": "tCZ5wyKIedrp"
      },
      "source": [
        "10.Write a Python program that accepts an integer (n) and computes the value of n+nn+nnn.\n",
        "\n",
        "Sample value of n is 5\n",
        "Expected Result : 615"
      ]
    },
    {
      "cell_type": "code",
      "metadata": {
        "id": "EFchSltSejls",
        "colab": {
          "base_uri": "https://localhost:8080/",
          "height": 68
        },
        "outputId": "56fa4f04-0c9f-42ae-8eaa-4e7053e84122"
      },
      "source": [
        "n = int(input(\"Enter the value  of n : \"))\n",
        "print(n)\n",
        "type(n)\n",
        "\n",
        "n1 = int(\"%s\" % n)\n",
        "n2 = int(\"%s%s\" % (n,n))\n",
        "n3 = int(\"%s%s%s\" % (n,n,n))\n",
        "print(n1+n2+n3)"
      ],
      "execution_count": null,
      "outputs": [
        {
          "output_type": "stream",
          "text": [
            "Enter the value  of n : 5\n",
            "5\n",
            "615\n"
          ],
          "name": "stdout"
        }
      ]
    },
    {
      "cell_type": "markdown",
      "metadata": {
        "id": "pwyZo-ex6utq"
      },
      "source": [
        "11.Write a Python program to print the documents (syntax, description etc.) of Python built-in function(s).\n",
        "Sample function : abs()\n",
        "\n",
        "Expected Result :\n",
        "abs(number) -> number\n",
        "Return the absolute value of the argument."
      ]
    },
    {
      "cell_type": "code",
      "metadata": {
        "id": "3740oW4x69hy",
        "colab": {
          "base_uri": "https://localhost:8080/",
          "height": 34
        },
        "outputId": "ba539a9f-ad72-4733-89ea-eb7f6ccf9876"
      },
      "source": [
        "print(abs.__doc__)\n"
      ],
      "execution_count": null,
      "outputs": [
        {
          "output_type": "stream",
          "text": [
            "Return the absolute value of the argument.\n"
          ],
          "name": "stdout"
        }
      ]
    },
    {
      "cell_type": "markdown",
      "metadata": {
        "id": "cVrSOS1v7YhA"
      },
      "source": [
        "12.Write a Python program to print the calendar of a given month and year.\n",
        "\n",
        "Note : Use 'calendar' module."
      ]
    },
    {
      "cell_type": "code",
      "metadata": {
        "id": "66LKrCiy7iAR",
        "colab": {
          "base_uri": "https://localhost:8080/",
          "height": 187
        },
        "outputId": "b7552b52-62c3-4058-e506-219267d43d5d"
      },
      "source": [
        "import calendar \n",
        "m = int(input(\"Enter Month :\"))\n",
        "y = int(input(\"Enter Year :\"))\n",
        "print(calendar.month(y,m))"
      ],
      "execution_count": null,
      "outputs": [
        {
          "output_type": "stream",
          "text": [
            "Enter Month :4\n",
            "Enter Year :1992\n",
            "     April 1992\n",
            "Mo Tu We Th Fr Sa Su\n",
            "       1  2  3  4  5\n",
            " 6  7  8  9 10 11 12\n",
            "13 14 15 16 17 18 19\n",
            "20 21 22 23 24 25 26\n",
            "27 28 29 30\n",
            "\n"
          ],
          "name": "stdout"
        }
      ]
    },
    {
      "cell_type": "markdown",
      "metadata": {
        "id": "sFo0pVH19aRp"
      },
      "source": [
        "13.Write a Python program to print the following here document.\n",
        "\n",
        "Sample string :\n",
        "\n",
        "a string that you \"don't\" have to escape\n",
        "\n",
        "This\n",
        "\n",
        "is a ....... multi-line\n",
        "\n",
        "heredoc string --------> example"
      ]
    },
    {
      "cell_type": "code",
      "metadata": {
        "id": "2p-tflu29gxA",
        "colab": {
          "base_uri": "https://localhost:8080/",
          "height": 119
        },
        "outputId": "960133f7-a9c4-4eaf-9aae-43f25fbb0e62"
      },
      "source": [
        "print(\"\"\"a sriring that you \"don't\" have to escape\n",
        "This\n",
        "is a ....... multi-line\n",
        "heredoc string --------> example\n",
        "\n",
        "   \"\"\")"
      ],
      "execution_count": null,
      "outputs": [
        {
          "output_type": "stream",
          "text": [
            "a sriring that you \"don't\" have to escape\n",
            "This\n",
            "is a ....... multi-line\n",
            "heredoc string --------> example\n",
            "\n",
            "   \n"
          ],
          "name": "stdout"
        }
      ]
    },
    {
      "cell_type": "markdown",
      "metadata": {
        "id": "IheTBAdrLV3M"
      },
      "source": [
        "14. Write a Python program to calculate number of days between two dates.\n",
        "\n",
        "Sample dates : (2014, 7, 2), (2014, 7, 11)\n",
        "\n",
        "Expected output : 9 days"
      ]
    },
    {
      "cell_type": "code",
      "metadata": {
        "id": "97lBbBkcOmac",
        "colab": {
          "base_uri": "https://localhost:8080/",
          "height": 34
        },
        "outputId": "d5011b6e-62fd-4355-f8b0-de6ddec10de9"
      },
      "source": [
        "from datetime import date \n",
        "d1 = date(2020, 4, 2)\n",
        "d2 = date(2020, 12, 11)\n",
        "d3 = d2 - d1\n",
        "print(d3.days)"
      ],
      "execution_count": null,
      "outputs": [
        {
          "output_type": "stream",
          "text": [
            "253\n"
          ],
          "name": "stdout"
        }
      ]
    },
    {
      "cell_type": "markdown",
      "metadata": {
        "id": "0mGNlScwUEJZ"
      },
      "source": [
        "15.Write a Python program to get the volume of a sphere with radius 6."
      ]
    },
    {
      "cell_type": "code",
      "metadata": {
        "id": "BW5x0UtuUFzt",
        "colab": {
          "base_uri": "https://localhost:8080/",
          "height": 51
        },
        "outputId": "dd0bdd76-ec66-4e50-e087-414ac0734a92"
      },
      "source": [
        "import math \n",
        "r = int(input(\"Enter Radius of the Sphere :\"))\n",
        "print(\"Volume of the Sphere is :\", (4/3)*math.pi*r**3)"
      ],
      "execution_count": null,
      "outputs": [
        {
          "output_type": "stream",
          "text": [
            "Enter Radius of the Sphere :5\n",
            "Volume of the Sphere is : 523.5987755982989\n"
          ],
          "name": "stdout"
        }
      ]
    },
    {
      "cell_type": "markdown",
      "metadata": {
        "id": "M7xlox12wZxk"
      },
      "source": [
        "16.Write a Python program to get the difference between a given number and 17, if the number is greater than 17 return double the absolute difference"
      ]
    },
    {
      "cell_type": "code",
      "metadata": {
        "id": "iXtSseYewdmv",
        "colab": {
          "base_uri": "https://localhost:8080/",
          "height": 51
        },
        "outputId": "7e38bc49-c9f2-49fc-bd56-f1a2f5b5633e"
      },
      "source": [
        "inp = int(input(\"Enter a Number :\"))\n",
        "type(inp)\n",
        "if (inp<=17):\n",
        "  d = 17 - inp\n",
        "  print(\"Difference :\", d)\n",
        "else :\n",
        "  d = inp - 17\n",
        "  value = d*2\n",
        "  print(\"Absolute value:\", value) \n"
      ],
      "execution_count": null,
      "outputs": [
        {
          "output_type": "stream",
          "text": [
            "Enter a Number :27\n",
            "Absolute value: 100\n"
          ],
          "name": "stdout"
        }
      ]
    },
    {
      "cell_type": "code",
      "metadata": {
        "id": "JPjujdqb2tQG",
        "colab": {
          "base_uri": "https://localhost:8080/",
          "height": 51
        },
        "outputId": "096007f8-74bf-48f4-aef2-27a7a1015330"
      },
      "source": [
        "n = int(input(\"Enter a Number :\"))\n",
        "def difference(n):\n",
        "  if (n<=17):\n",
        "    return 17-n\n",
        "  else :\n",
        "    return 2*(n-17)\n",
        "print(\"Difference :\" ,difference(n))      \n"
      ],
      "execution_count": null,
      "outputs": [
        {
          "output_type": "stream",
          "text": [
            "Enter a Number :24\n",
            "Difference : 14\n"
          ],
          "name": "stdout"
        }
      ]
    },
    {
      "cell_type": "markdown",
      "metadata": {
        "id": "0ObrctfF5mXQ"
      },
      "source": [
        "17.Write a Python program to test whether a number is within 100 of 1000 or 2000."
      ]
    },
    {
      "cell_type": "code",
      "metadata": {
        "id": "Hm-e-7kx5oKU",
        "colab": {
          "base_uri": "https://localhost:8080/",
          "height": 51
        },
        "outputId": "30bfb282-4166-4622-fd9b-f51454083edd"
      },
      "source": [
        "n = int(input(\"Enter a Number :\"))\n",
        "def near_thousand(n):\n",
        "  return ((abs(1000-n) <= 100) or abs(2000-n) <= 100)\n",
        "print(near_thousand(n))  "
      ],
      "execution_count": null,
      "outputs": [
        {
          "output_type": "stream",
          "text": [
            "Enter a Number :900\n",
            "True\n"
          ],
          "name": "stdout"
        }
      ]
    },
    {
      "cell_type": "markdown",
      "metadata": {
        "id": "M-9ukzAD8IHV"
      },
      "source": [
        "18.Write a Python program to calculate the sum of three given numbers, if the values are equal then return three times of their sum."
      ]
    },
    {
      "cell_type": "code",
      "metadata": {
        "id": "yH91D_lp8KJ6",
        "colab": {
          "base_uri": "https://localhost:8080/",
          "height": 85
        },
        "outputId": "8a2eba33-07be-4a43-fb92-b3ce9e045567"
      },
      "source": [
        "a = int(input(\"Enter First No :\"))\n",
        "b = int(input(\"Enter Second No :\"))\n",
        "c = int(input(\"Enter Third No :\"))\n",
        "def sum(a,b,c) :\n",
        "  if (a==b==c):\n",
        "    return 3*(a+b+c)\n",
        "  else :    \n",
        "    return (a+b+c)\n",
        "print(\"Sum of the values :\", sum(a,b,c))      "
      ],
      "execution_count": null,
      "outputs": [
        {
          "output_type": "stream",
          "text": [
            "Enter First No :10\n",
            "Enter Second No :24\n",
            "Enter Third No :50\n",
            "Sum of the values : 84\n"
          ],
          "name": "stdout"
        }
      ]
    },
    {
      "cell_type": "markdown",
      "metadata": {
        "id": "rGbSMspTJ1tS"
      },
      "source": [
        "19.Write a Python program to get a new string from a given string where \"Is\" has been added to the front. If the given string already begins with \"Is\" then return the string unchanged"
      ]
    },
    {
      "cell_type": "code",
      "metadata": {
        "id": "zd-CzTZEKZve",
        "colab": {
          "base_uri": "https://localhost:8080/",
          "height": 51
        },
        "outputId": "609e2487-d274-492e-9db5-5aa3e57a47e9"
      },
      "source": [
        "def new_string(str):\n",
        "  if len(str) >= 2 and str[0:2] == \"Is\":\n",
        "    return str\n",
        "  return \"Is\"+str\n",
        "\n",
        "print(new_string(\"I\"))\n",
        "print(new_string(\"IsArray\"))  \n"
      ],
      "execution_count": null,
      "outputs": [
        {
          "output_type": "stream",
          "text": [
            "IsI\n",
            "IsArray\n"
          ],
          "name": "stdout"
        }
      ]
    },
    {
      "cell_type": "markdown",
      "metadata": {
        "id": "h6OLM5RR9sS8"
      },
      "source": [
        "20.Write a Python program to get a string which is n (non-negative integer) copies of a given string."
      ]
    },
    {
      "cell_type": "code",
      "metadata": {
        "id": "fPjkC88J9xqg",
        "colab": {
          "base_uri": "https://localhost:8080/",
          "height": 68
        },
        "outputId": "e9a28d24-acd9-4b1e-d1e6-56c47ccf5e74"
      },
      "source": [
        "str = input(\"Enter a sting :\")\n",
        "no = int(input(\"Enter how many times u want to print the String :\"))\n",
        "def copy(str, no):\n",
        "  result = \"\"\n",
        "  for i in range(no):\n",
        "    result = result + str\n",
        "  return result\n",
        "\n",
        "print(copy(str,no))     \n"
      ],
      "execution_count": null,
      "outputs": [
        {
          "output_type": "stream",
          "text": [
            "Enter a sting :sam\n",
            "Enter how many times u want to print the String :5\n",
            "samsamsamsamsam\n"
          ],
          "name": "stdout"
        }
      ]
    },
    {
      "cell_type": "markdown",
      "metadata": {
        "id": "_tqhcmPlUYax"
      },
      "source": [
        "21.Write a Python program to find whether a given number (accept from the user) is even or odd, print out an appropriate message to the user."
      ]
    },
    {
      "cell_type": "code",
      "metadata": {
        "id": "d4VTOLwEVVfa",
        "colab": {
          "base_uri": "https://localhost:8080/",
          "height": 51
        },
        "outputId": "43636867-6d1d-45d7-e57c-34cb6df93bb4"
      },
      "source": [
        "num = int(input(\"Enter a Number :\"))\n",
        "mod = num%2 \n",
        "if (mod>0):\n",
        "  print(\"This is an Odd Number\")\n",
        "else :\n",
        "  print(\"This is an Even Number\")  \n"
      ],
      "execution_count": null,
      "outputs": [
        {
          "output_type": "stream",
          "text": [
            "Enter a Number :6\n",
            "This is an Even Number\n"
          ],
          "name": "stdout"
        }
      ]
    },
    {
      "cell_type": "markdown",
      "metadata": {
        "id": "TcLIQkWMWYeJ"
      },
      "source": [
        "22.Write a Python program to count the number 4 in a given list."
      ]
    },
    {
      "cell_type": "code",
      "metadata": {
        "id": "8-8fuTsZWbCD",
        "colab": {
          "base_uri": "https://localhost:8080/",
          "height": 68
        },
        "outputId": "f7433863-a1b4-41e9-ac0b-6e57b3bb2110"
      },
      "source": [
        "str = input(\"Enter a list elements separated by space :\")\n",
        "\n",
        "lst = str.split()\n",
        "\n",
        "print(lst)\n",
        "type(lst)\n",
        "\n",
        "def four(lst):\n",
        "  count = 0\n",
        "  for i in lst :\n",
        "    if i == '4' :\n",
        "      count = count + 1\n",
        "   \n",
        "  return count  \n",
        "print(\"Number of 4's in this list :\", four(lst))      "
      ],
      "execution_count": null,
      "outputs": [
        {
          "output_type": "stream",
          "text": [
            "Enter a list elements separated by space :4 5 6 7 4 3 4 4\n",
            "['4', '5', '6', '7', '4', '3', '4', '4']\n",
            "Number of 4's in this list : 4\n"
          ],
          "name": "stdout"
        }
      ]
    },
    {
      "cell_type": "code",
      "metadata": {
        "id": "xw2RrSMJmvHO",
        "colab": {
          "base_uri": "https://localhost:8080/",
          "height": 51
        },
        "outputId": "4f1f5653-eb14-44a8-a15b-d273ac3d0d75"
      },
      "source": [
        "def list_count_4(nums):\n",
        "  count = 0  \n",
        "  for num in nums:\n",
        "    if num == 4:\n",
        "      count = count + 1\n",
        "\n",
        "  return count\n",
        "\n",
        "print(list_count_4([1, 4, 6, 7, 4]))\n",
        "print(list_count_4([1, 4, 6, 4, 7, 4]))"
      ],
      "execution_count": null,
      "outputs": [
        {
          "output_type": "stream",
          "text": [
            "2\n",
            "3\n"
          ],
          "name": "stdout"
        }
      ]
    },
    {
      "cell_type": "markdown",
      "metadata": {
        "id": "WPCFxe_Qm2eE"
      },
      "source": [
        "23.Write a Python program to get the n (non-negative integer) copies of the first 2 characters of a given string. Return the n copies of the whole string if the length is less than 2."
      ]
    },
    {
      "cell_type": "code",
      "metadata": {
        "id": "IdXzmHhCY1GK",
        "colab": {
          "base_uri": "https://localhost:8080/",
          "height": 51
        },
        "outputId": "9ec6b689-0a95-4cfc-cd86-4257b5cb0ccb"
      },
      "source": [
        "def substring_copy(str, n):\n",
        "  flen = 2\n",
        "  if flen > len(str):\n",
        "    flen = len(str)\n",
        "  substr = str[:flen]\n",
        "\n",
        "  result = \"\"\n",
        "  for i in range(n) :\n",
        "    result = result + substr\n",
        "  return result\n",
        "print (substring_copy('samir',5))\n",
        "\n",
        "print(substring_copy('p', 3));\n",
        "\n"
      ],
      "execution_count": null,
      "outputs": [
        {
          "output_type": "stream",
          "text": [
            "sasasasasa\n",
            "ppp\n"
          ],
          "name": "stdout"
        }
      ]
    },
    {
      "cell_type": "markdown",
      "metadata": {
        "id": "jV2Mmid4s3wO"
      },
      "source": [
        "24. Write a Python program to test whether a passed letter is a vowel or not."
      ]
    },
    {
      "cell_type": "code",
      "metadata": {
        "colab": {
          "base_uri": "https://localhost:8080/"
        },
        "id": "ZFjx0Efws_Iw",
        "outputId": "7db46a9f-519c-4715-9ef1-8835680cfd48"
      },
      "source": [
        "word_check = input(\"Enter a single latter : \")\r\n",
        "word = \"aeiou\"\r\n",
        "for i in word :\r\n",
        "  if (i == word_check):\r\n",
        "    print(\"Entered Number is Vowel : \")\r\n",
        "    break\r\n",
        "  else :\r\n",
        "    print(\"Entered Number is not a Vowel : \")\r\n",
        "    break"
      ],
      "execution_count": 8,
      "outputs": [
        {
          "output_type": "stream",
          "text": [
            "Enter a single latter :a\n",
            "Entered Number is Vowel : \n"
          ],
          "name": "stdout"
        }
      ]
    }
  ]
}